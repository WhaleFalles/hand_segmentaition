{
 "cells": [
  {
   "cell_type": "markdown",
   "metadata": {},
   "source": [
    "#### 先导入实验所需的包或模块"
   ]
  },
  {
   "cell_type": "code",
   "execution_count": 1,
   "metadata": {},
   "outputs": [
    {
     "name": "stdout",
     "output_type": "stream",
     "text": [
      "导入模块成功\n"
     ]
    }
   ],
   "source": [
    "%matplotlib inline\n",
    "import matplotlib.pyplot as plt\n",
    "import sys,os\n",
    "import_path=!cd ..&&cd\n",
    "sys.path.append(import_path[0])\n",
    "\n",
    "from mxnet import gluon, image, init, nd, gpu\n",
    "from mxnet.gluon import data as gdata, loss as gloss, model_zoo, nn\n",
    "import numpy as np\n",
    "import d2lzh as d2l\n",
    "import cloudpickle as pkl\n",
    "\n",
    "print(\"导入模块成功\")"
   ]
  },
  {
   "cell_type": "markdown",
   "metadata": {},
   "source": [
    "#### 反序列化训练好的网络"
   ]
  },
  {
   "cell_type": "code",
   "execution_count": 2,
   "metadata": {},
   "outputs": [
    {
     "name": "stdout",
     "output_type": "stream",
     "text": [
      "Read net successfully\n"
     ]
    }
   ],
   "source": [
    "net_filename = \"hand_segmentation_net.pkl\"\n",
    "net = None\n",
    "net_filepath = os.path.join(d2l.ROOT_DIR, \"model\",net_filename)\n",
    "with open(net_filepath,\"rb\") as net_f:\n",
    "    net = pkl.load(net_f)\n",
    "print(\"Read net successfully\")"
   ]
  },
  {
   "cell_type": "markdown",
   "metadata": {},
   "source": [
    "#### 定义测试函数与映射函数"
   ]
  },
  {
   "cell_type": "code",
   "execution_count": 3,
   "metadata": {},
   "outputs": [],
   "source": [
    "def predict(img):\n",
    "    X = test_iter._dataset.normalize_image(img)\n",
    "    X = X.transpose((2, 0, 1)).expand_dims(axis=0)\n",
    "    pred = nd.argmax(net(X.as_in_context(ctx[0])), axis=1)\n",
    "    return pred.reshape((pred.shape[1], pred.shape[2]))\n",
    "\n",
    "# 为了可视化每个像素的预测类别，我们将预测类别映射回它们在数据集中的标注颜色。\n",
    "def label2image(pred):\n",
    "    colormap = nd.array(d2l.hand_colormap, ctx=ctx[0], dtype='uint8')\n",
    "    X = pred.astype('int32')\n",
    "    return colormap[X, :]"
   ]
  },
  {
   "cell_type": "markdown",
   "metadata": {},
   "source": [
    "#### 导入数据及定义裁剪尺寸"
   ]
  },
  {
   "cell_type": "code",
   "execution_count": 12,
   "metadata": {},
   "outputs": [
    {
     "name": "stdout",
     "output_type": "stream",
     "text": [
      "开始读取图像...\n",
      "当前文件夹为:D:\\computer vision\\data\\1_train_rgb\n",
      "照片总数为:0\n",
      "读取完毕\n",
      "开始读取图像...\n",
      "当前文件夹为:D:\\computer vision\\data\\2_train_mask\n",
      "照片总数为:0\n",
      "读取完毕\n",
      "read 0 examples\n"
     ]
    }
   ],
   "source": [
    "# 文件目录\n",
    "feature_dir = \"1_train_rgb\"\n",
    "label_dir = \"2_train_mask\"\n",
    "test_dir = \"3_test_rgb\"\n",
    "result_dir=\"test_mask\"#你的文件目录\n",
    "result_dir= os.path.join(d2l.ROOT_DIR, result_dir) \n",
    "pictures=os.listdir(os.path.join(d2l.ROOT_DIR,\"data\",test_dir))\n",
    "if pictures == []:\n",
    "    raise Exception(\"没有正确的放置图片的位置\")\n",
    "\n",
    "# 定义实验参数\n",
    "crop_size, batch_size, colormap2label = (320, 480), 32, nd.zeros(256**3)\n",
    "num_workers = 0 if sys.platform.startswith('win32') else 4\n",
    "ctx = d2l.try_all_gpus()\n",
    "\n",
    "#测试集\n",
    "test_iter = gdata.DataLoader(\n",
    "    d2l.HandDataset(feature_dir, label_dir, crop_size, colormap2label,1000,7000), batch_size,\n",
    "    last_batch='discard', num_workers=num_workers)"
   ]
  },
  {
   "cell_type": "markdown",
   "metadata": {},
   "source": [
    "#### 预测出手部分割结果 即掩码图"
   ]
  },
  {
   "cell_type": "code",
   "execution_count": null,
   "metadata": {},
   "outputs": [],
   "source": [
    "num_picture = 10 #图片数量\n",
    "index_picture = 0 #图片索引\n",
    "test_images2, images_name= d2l.read_images(test_dir, num_picture, index_picture)\n",
    "crop_rect = (0, 0, 480, 320)\n",
    "images=[]\n",
    "for i in range(num_picture):\n",
    "    pred = label2image(predict(test_images2[i]))\n",
    "    images += [test_images2[i], pred]\n",
    "    plt.imsave(os.path.join(result_dir,images_name[i]),pred.asnumpy(),cmap=\"gray\")\n",
    " \n",
    "print(\"图片已保存到test_mask\")\n",
    "d2l.show_images(images[::2]+images[1::2],2,10)"
   ]
  },
  {
   "cell_type": "code",
   "execution_count": null,
   "metadata": {},
   "outputs": [],
   "source": []
  }
 ],
 "metadata": {
  "kernelspec": {
   "display_name": "Python 3",
   "language": "python",
   "name": "python3"
  },
  "language_info": {
   "codemirror_mode": {
    "name": "ipython",
    "version": 3
   },
   "file_extension": ".py",
   "mimetype": "text/x-python",
   "name": "python",
   "nbconvert_exporter": "python",
   "pygments_lexer": "ipython3",
   "version": "3.6.9"
  }
 },
 "nbformat": 4,
 "nbformat_minor": 2
}

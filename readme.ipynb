{
 "cells": [
  {
   "cell_type": "markdown",
   "metadata": {},
   "source": [
    "## environment\n",
    "conda: conda install environment.yml  \n",
    "or  \n",
    "virtualenv: pip install -r requirements.txt  \n",
    "\n",
    "## usage\n",
    "\n",
    "##### run commands\n",
    "activate your_virtual_env_name  \n",
    "jupyter notebook\n",
    "#### train or predict\n",
    "main->fcn.ipynb (run it to trian model)  \n",
    "or  \n",
    "main -> predict.ipynb (run it to predict hand picture)  \n",
    "#### data s\n",
    "put your data in the file dir \"data\" and gain result in dir \"test_rgb_and_mask\"  "
   ]
  },
  {
   "cell_type": "code",
   "execution_count": null,
   "metadata": {},
   "outputs": [],
   "source": []
  }
 ],
 "metadata": {
  "kernelspec": {
   "display_name": "Python 3",
   "language": "python",
   "name": "python3"
  },
  "language_info": {
   "codemirror_mode": {
    "name": "ipython",
    "version": 3
   },
   "file_extension": ".py",
   "mimetype": "text/x-python",
   "name": "python",
   "nbconvert_exporter": "python",
   "pygments_lexer": "ipython3",
   "version": "3.6.9"
  }
 },
 "nbformat": 4,
 "nbformat_minor": 2
}
